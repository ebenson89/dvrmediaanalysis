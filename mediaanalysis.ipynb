{
 "metadata": {
  "language_info": {
   "codemirror_mode": {
    "name": "ipython",
    "version": 3
   },
   "file_extension": ".py",
   "mimetype": "text/x-python",
   "name": "python",
   "nbconvert_exporter": "python",
   "pygments_lexer": "ipython3",
   "version": "3.7.4-final"
  },
  "orig_nbformat": 2,
  "kernelspec": {
   "name": "python3",
   "display_name": "Python 3",
   "language": "python"
  }
 },
 "nbformat": 4,
 "nbformat_minor": 2,
 "cells": [
  {
   "cell_type": "code",
   "execution_count": null,
   "metadata": {},
   "outputs": [],
   "source": []
  },
  {
   "cell_type": "code",
   "execution_count": 5,
   "metadata": {
    "tags": []
   },
   "outputs": [
    {
     "output_type": "execute_result",
     "data": {
      "text/plain": [
       "<matplotlib.axes._subplots.AxesSubplot at 0x1f9e5f8cc88>"
      ]
     },
     "metadata": {},
     "execution_count": 5
    },
    {
     "output_type": "display_data",
     "data": {
      "text/plain": "<Figure size 432x288 with 1 Axes>",
      "image/png": "[encoded data removed]"
     },
     "metadata": {
      "needs_background": "light"
     }
    }
   ],
   "source": [
    "%matplotlib inline\n",
    "from matplotlib import pyplot as plt\n",
    "import pandas as pd \n",
    "import json\n",
    "from datetime import datetime\n",
    "\n",
    "# media_file_name = \"simplerec.json\"\n",
    "media_file_name = \"recordings.json\"\n",
    "\n",
    "def show_length(value):\n",
    "    ''' Find the nearest 30 minute duration multiple to find the actual show length. '''\n",
    "    durations = [m*30 for m in range(1,11)]\n",
    "    n = [abs(i-value) for i in durations]\n",
    "    idx = n.index(min(n))\n",
    "    return durations[idx]\n",
    "\n",
    "def remove_list (media_dict):\n",
    "    for m in media_dict:\n",
    "        media_dict[m] = media_dict[m][0]\n",
    "    return media_dict  \n",
    "\n",
    "def convert_encode_time(media_dict):\n",
    "    ''' Filter and convert media to a form we can analyze easily. '''\n",
    "    media_dict_updated = {}\n",
    "    for m in media_dict:\n",
    "        if \"EncodeTime\" in media_dict[m]:\n",
    "            media_dict_updated[m] = media_dict[m]\n",
    "            media_dict_updated[m]['EncodeTime'] = datetime.strptime(media_dict_updated[m]['EncodeTime'],\n",
    "                                                  \"%Y:%m:%d %H:%M:%S%z\")\n",
    "    return media_dict_updated        \n",
    "\n",
    "def filter_convert_media(media_dict):\n",
    "    ''' Filter and convert media to a form we can analyze easily. '''\n",
    "    media_dict_updated = {}\n",
    "    for m in media_dict:\n",
    "        if \"Title\" in media_dict[m]:\n",
    "            media_dict_updated[m] = media_dict[m]\n",
    "            media_dict_updated[m]['EncodeTime'] = datetime.strptime(media_dict_updated[m]['EncodeTime'],\n",
    "                                                  \"%Y:%m:%d %H:%M:%S%z\").astimezone()\n",
    "            media_dict_updated[m]['MediaOriginalRunTime'] = round(show_length(sum(x * int(t) for x,t in zip ([60,1,0], \n",
    "                                                            media_dict_updated[m]['MediaOriginalRunTime'].split(\":\"))))/60,1) \n",
    "    return media_dict_updated\n",
    "\n",
    "def get_media(json_file_name):\n",
    "    #Open json file\n",
    "    with open(media_file_name) as media_file:\n",
    "        #Returns json obj as a dictionary\n",
    "        return filter_convert_media(remove_list(json.load(media_file)))\n",
    "\n",
    "# movie = \"2019 Christmas- A First Look Preview Special_HALLHD_2019_07_13_21_00_01.wtv\"\n",
    "# print (get_media(media_file_name)[movie])\n",
    "\n",
    "df = pd.DataFrame(get_media(media_file_name)).transpose()\n",
    "# print (df.drop_duplicates(subset='Title'))\n",
    "# df['MediaOriginalRunTime'].plot(kind='bar')\n",
    "df['MediaOriginalRunTime'].value_counts().plot(kind='bar')\n",
    "# plt.show()\n"
   ]
  },
  {
   "cell_type": "code",
   "execution_count": 7,
   "metadata": {
    "tags": []
   },
   "outputs": [
    {
     "output_type": "stream",
     "name": "stdout",
     "text": [
      "Title\nHome & Family                                    522.0\nExpedition Unknown                               107.5\nJeopardy!                                         84.0\nRestaurant: Impossible                            61.5\nAurora Teagarden Mysteries                        59.5\n                                                 ...  \nBeat Bobby Flay                                    0.5\nA Kitten Christmas                                 0.5\nCBS Evening News With Norah O'Donnell              0.5\nRick Steves' Europe                                0.5\nCrossword Mysteries & Friends Preview Special      0.5\nName: MediaOriginalRunTime, Length: 376, dtype: float64\n"
     ]
    }
   ],
   "source": [
    "# pd.set_option('display.max_rows', None)\n",
    "print(df.groupby('Title')['MediaOriginalRunTime'].sum().sort_values(ascending = False))"
   ]
  },
  {
   "cell_type": "code",
   "execution_count": 2,
   "metadata": {},
   "outputs": [
    {
     "output_type": "stream",
     "name": "stdout",
     "text": [
      "Using matplotlib backend: TkAgg\n"
     ]
    }
   ],
   "source": [
    "pd.set_option('display.max_rows', None)\n",
    "# df[df['Title'] == 'Expedition Unknown']['MediaOriginalRunTime']"
   ]
  }
 ]
}